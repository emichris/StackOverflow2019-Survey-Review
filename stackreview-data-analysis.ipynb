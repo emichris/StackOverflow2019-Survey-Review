{
 "cells": [
  {
   "cell_type": "markdown",
   "metadata": {},
   "source": [
    "# StackOverflow 2019 Review Data Analysis"
   ]
  },
  {
   "cell_type": "code",
   "execution_count": 1,
   "metadata": {},
   "outputs": [],
   "source": [
    "# import libraries \n",
    "import numpy as np\n",
    "import pandas as pd\n",
    "import seaborn as sns\n",
    "import matplotlib.pyplot as plt\n",
    "from collections import defaultdict\n",
    "\n",
    "from sklearn.model_selection import train_test_split\n",
    "from sklearn.metrics import r2_score, mean_squared_error, median_absolute_error\n",
    "from sklearn.ensemble import RandomForestRegressor\n",
    "\n",
    "%matplotlib inline\n",
    "\n",
    "#pd.set_option('max_columns', None) # set pandas to display all columns"
   ]
  },
  {
   "cell_type": "markdown",
   "metadata": {},
   "source": [
    "## 1) Businss Understanding\n",
    "Software engineering is described as one of the hottest jobs of the 21st century. Because of its technical nature, unlike many other professions, a college degree and advanced degree is not always required to get a job in the field. In order to undersatnd how opportunity varies between having a post high shcool education and not having, I seek to answer the folowing questions using StackOverflow 2019 reiew survey responses:\n",
    "1. Are people with High School diploma as satisfied in their software engineering job/career as those with higher educational degrees?\n",
    "2. Are people with high school degrees paid at same rate as people with college education?\n",
    "3. How do they feel about becoming managers (growth opportunity)?"
   ]
  },
  {
   "cell_type": "markdown",
   "metadata": {},
   "source": [
    "## 2) Data Understanding\n",
    "\n",
    "**Get data**"
   ]
  },
  {
   "cell_type": "code",
   "execution_count": 2,
   "metadata": {},
   "outputs": [
    {
     "data": {
      "text/html": [
       "<div>\n",
       "<style scoped>\n",
       "    .dataframe tbody tr th:only-of-type {\n",
       "        vertical-align: middle;\n",
       "    }\n",
       "\n",
       "    .dataframe tbody tr th {\n",
       "        vertical-align: top;\n",
       "    }\n",
       "\n",
       "    .dataframe thead th {\n",
       "        text-align: right;\n",
       "    }\n",
       "</style>\n",
       "<table border=\"1\" class=\"dataframe\">\n",
       "  <thead>\n",
       "    <tr style=\"text-align: right;\">\n",
       "      <th></th>\n",
       "      <th>Respondent</th>\n",
       "      <th>MainBranch</th>\n",
       "      <th>Hobbyist</th>\n",
       "      <th>OpenSourcer</th>\n",
       "      <th>OpenSource</th>\n",
       "      <th>Employment</th>\n",
       "      <th>Country</th>\n",
       "      <th>Student</th>\n",
       "      <th>EdLevel</th>\n",
       "      <th>UndergradMajor</th>\n",
       "      <th>...</th>\n",
       "      <th>WelcomeChange</th>\n",
       "      <th>SONewContent</th>\n",
       "      <th>Age</th>\n",
       "      <th>Gender</th>\n",
       "      <th>Trans</th>\n",
       "      <th>Sexuality</th>\n",
       "      <th>Ethnicity</th>\n",
       "      <th>Dependents</th>\n",
       "      <th>SurveyLength</th>\n",
       "      <th>SurveyEase</th>\n",
       "    </tr>\n",
       "  </thead>\n",
       "  <tbody>\n",
       "    <tr>\n",
       "      <th>0</th>\n",
       "      <td>1</td>\n",
       "      <td>I am a student who is learning to code</td>\n",
       "      <td>Yes</td>\n",
       "      <td>Never</td>\n",
       "      <td>The quality of OSS and closed source software ...</td>\n",
       "      <td>Not employed, and not looking for work</td>\n",
       "      <td>United Kingdom</td>\n",
       "      <td>No</td>\n",
       "      <td>Primary/elementary school</td>\n",
       "      <td>NaN</td>\n",
       "      <td>...</td>\n",
       "      <td>Just as welcome now as I felt last year</td>\n",
       "      <td>Tech articles written by other developers;Indu...</td>\n",
       "      <td>14.0</td>\n",
       "      <td>Man</td>\n",
       "      <td>No</td>\n",
       "      <td>Straight / Heterosexual</td>\n",
       "      <td>NaN</td>\n",
       "      <td>No</td>\n",
       "      <td>Appropriate in length</td>\n",
       "      <td>Neither easy nor difficult</td>\n",
       "    </tr>\n",
       "    <tr>\n",
       "      <th>1</th>\n",
       "      <td>2</td>\n",
       "      <td>I am a student who is learning to code</td>\n",
       "      <td>No</td>\n",
       "      <td>Less than once per year</td>\n",
       "      <td>The quality of OSS and closed source software ...</td>\n",
       "      <td>Not employed, but looking for work</td>\n",
       "      <td>Bosnia and Herzegovina</td>\n",
       "      <td>Yes, full-time</td>\n",
       "      <td>Secondary school (e.g. American high school, G...</td>\n",
       "      <td>NaN</td>\n",
       "      <td>...</td>\n",
       "      <td>Just as welcome now as I felt last year</td>\n",
       "      <td>Tech articles written by other developers;Indu...</td>\n",
       "      <td>19.0</td>\n",
       "      <td>Man</td>\n",
       "      <td>No</td>\n",
       "      <td>Straight / Heterosexual</td>\n",
       "      <td>NaN</td>\n",
       "      <td>No</td>\n",
       "      <td>Appropriate in length</td>\n",
       "      <td>Neither easy nor difficult</td>\n",
       "    </tr>\n",
       "    <tr>\n",
       "      <th>2</th>\n",
       "      <td>3</td>\n",
       "      <td>I am not primarily a developer, but I write co...</td>\n",
       "      <td>Yes</td>\n",
       "      <td>Never</td>\n",
       "      <td>The quality of OSS and closed source software ...</td>\n",
       "      <td>Employed full-time</td>\n",
       "      <td>Thailand</td>\n",
       "      <td>No</td>\n",
       "      <td>Bachelor’s degree (BA, BS, B.Eng., etc.)</td>\n",
       "      <td>Web development or web design</td>\n",
       "      <td>...</td>\n",
       "      <td>Just as welcome now as I felt last year</td>\n",
       "      <td>Tech meetups or events in your area;Courses on...</td>\n",
       "      <td>28.0</td>\n",
       "      <td>Man</td>\n",
       "      <td>No</td>\n",
       "      <td>Straight / Heterosexual</td>\n",
       "      <td>NaN</td>\n",
       "      <td>Yes</td>\n",
       "      <td>Appropriate in length</td>\n",
       "      <td>Neither easy nor difficult</td>\n",
       "    </tr>\n",
       "    <tr>\n",
       "      <th>3</th>\n",
       "      <td>4</td>\n",
       "      <td>I am a developer by profession</td>\n",
       "      <td>No</td>\n",
       "      <td>Never</td>\n",
       "      <td>The quality of OSS and closed source software ...</td>\n",
       "      <td>Employed full-time</td>\n",
       "      <td>United States</td>\n",
       "      <td>No</td>\n",
       "      <td>Bachelor’s degree (BA, BS, B.Eng., etc.)</td>\n",
       "      <td>Computer science, computer engineering, or sof...</td>\n",
       "      <td>...</td>\n",
       "      <td>Just as welcome now as I felt last year</td>\n",
       "      <td>Tech articles written by other developers;Indu...</td>\n",
       "      <td>22.0</td>\n",
       "      <td>Man</td>\n",
       "      <td>No</td>\n",
       "      <td>Straight / Heterosexual</td>\n",
       "      <td>White or of European descent</td>\n",
       "      <td>No</td>\n",
       "      <td>Appropriate in length</td>\n",
       "      <td>Easy</td>\n",
       "    </tr>\n",
       "    <tr>\n",
       "      <th>4</th>\n",
       "      <td>5</td>\n",
       "      <td>I am a developer by profession</td>\n",
       "      <td>Yes</td>\n",
       "      <td>Once a month or more often</td>\n",
       "      <td>OSS is, on average, of HIGHER quality than pro...</td>\n",
       "      <td>Employed full-time</td>\n",
       "      <td>Ukraine</td>\n",
       "      <td>No</td>\n",
       "      <td>Bachelor’s degree (BA, BS, B.Eng., etc.)</td>\n",
       "      <td>Computer science, computer engineering, or sof...</td>\n",
       "      <td>...</td>\n",
       "      <td>Just as welcome now as I felt last year</td>\n",
       "      <td>Tech meetups or events in your area;Courses on...</td>\n",
       "      <td>30.0</td>\n",
       "      <td>Man</td>\n",
       "      <td>No</td>\n",
       "      <td>Straight / Heterosexual</td>\n",
       "      <td>White or of European descent;Multiracial</td>\n",
       "      <td>No</td>\n",
       "      <td>Appropriate in length</td>\n",
       "      <td>Easy</td>\n",
       "    </tr>\n",
       "  </tbody>\n",
       "</table>\n",
       "<p>5 rows × 85 columns</p>\n",
       "</div>"
      ],
      "text/plain": [
       "   Respondent                                         MainBranch Hobbyist  \\\n",
       "0           1             I am a student who is learning to code      Yes   \n",
       "1           2             I am a student who is learning to code       No   \n",
       "2           3  I am not primarily a developer, but I write co...      Yes   \n",
       "3           4                     I am a developer by profession       No   \n",
       "4           5                     I am a developer by profession      Yes   \n",
       "\n",
       "                  OpenSourcer  \\\n",
       "0                       Never   \n",
       "1     Less than once per year   \n",
       "2                       Never   \n",
       "3                       Never   \n",
       "4  Once a month or more often   \n",
       "\n",
       "                                          OpenSource  \\\n",
       "0  The quality of OSS and closed source software ...   \n",
       "1  The quality of OSS and closed source software ...   \n",
       "2  The quality of OSS and closed source software ...   \n",
       "3  The quality of OSS and closed source software ...   \n",
       "4  OSS is, on average, of HIGHER quality than pro...   \n",
       "\n",
       "                               Employment                 Country  \\\n",
       "0  Not employed, and not looking for work          United Kingdom   \n",
       "1      Not employed, but looking for work  Bosnia and Herzegovina   \n",
       "2                      Employed full-time                Thailand   \n",
       "3                      Employed full-time           United States   \n",
       "4                      Employed full-time                 Ukraine   \n",
       "\n",
       "          Student                                            EdLevel  \\\n",
       "0              No                          Primary/elementary school   \n",
       "1  Yes, full-time  Secondary school (e.g. American high school, G...   \n",
       "2              No           Bachelor’s degree (BA, BS, B.Eng., etc.)   \n",
       "3              No           Bachelor’s degree (BA, BS, B.Eng., etc.)   \n",
       "4              No           Bachelor’s degree (BA, BS, B.Eng., etc.)   \n",
       "\n",
       "                                      UndergradMajor  \\\n",
       "0                                                NaN   \n",
       "1                                                NaN   \n",
       "2                      Web development or web design   \n",
       "3  Computer science, computer engineering, or sof...   \n",
       "4  Computer science, computer engineering, or sof...   \n",
       "\n",
       "              ...                                        WelcomeChange  \\\n",
       "0             ...              Just as welcome now as I felt last year   \n",
       "1             ...              Just as welcome now as I felt last year   \n",
       "2             ...              Just as welcome now as I felt last year   \n",
       "3             ...              Just as welcome now as I felt last year   \n",
       "4             ...              Just as welcome now as I felt last year   \n",
       "\n",
       "                                        SONewContent   Age Gender Trans  \\\n",
       "0  Tech articles written by other developers;Indu...  14.0    Man    No   \n",
       "1  Tech articles written by other developers;Indu...  19.0    Man    No   \n",
       "2  Tech meetups or events in your area;Courses on...  28.0    Man    No   \n",
       "3  Tech articles written by other developers;Indu...  22.0    Man    No   \n",
       "4  Tech meetups or events in your area;Courses on...  30.0    Man    No   \n",
       "\n",
       "                 Sexuality                                 Ethnicity  \\\n",
       "0  Straight / Heterosexual                                       NaN   \n",
       "1  Straight / Heterosexual                                       NaN   \n",
       "2  Straight / Heterosexual                                       NaN   \n",
       "3  Straight / Heterosexual              White or of European descent   \n",
       "4  Straight / Heterosexual  White or of European descent;Multiracial   \n",
       "\n",
       "  Dependents           SurveyLength                  SurveyEase  \n",
       "0         No  Appropriate in length  Neither easy nor difficult  \n",
       "1         No  Appropriate in length  Neither easy nor difficult  \n",
       "2        Yes  Appropriate in length  Neither easy nor difficult  \n",
       "3         No  Appropriate in length                        Easy  \n",
       "4         No  Appropriate in length                        Easy  \n",
       "\n",
       "[5 rows x 85 columns]"
      ]
     },
     "execution_count": 2,
     "metadata": {},
     "output_type": "execute_result"
    }
   ],
   "source": [
    "df_main = pd.read_csv(\"./data/survey_results_public.csv\")# read the dataset and store in 'df'\n",
    "df_main.head(5) #display first five rows of the dataset"
   ]
  },
  {
   "cell_type": "markdown",
   "metadata": {},
   "source": [
    "**Access**"
   ]
  },
  {
   "cell_type": "code",
   "execution_count": 3,
   "metadata": {},
   "outputs": [
    {
     "name": "stdout",
     "output_type": "stream",
     "text": [
      "There are 88883 reponses and 85 attributes\n"
     ]
    }
   ],
   "source": [
    "num_rows = df_main.shape[0] # number of rows is equivalent to number of players \n",
    "num_columns = df_main.shape[1]\n",
    "print('There are {} reponses and {} attributes'.format(num_rows,num_columns))"
   ]
  },
  {
   "cell_type": "code",
   "execution_count": 4,
   "metadata": {},
   "outputs": [
    {
     "data": {
      "text/plain": [
       "Index(['Respondent', 'MainBranch', 'Hobbyist', 'OpenSourcer', 'OpenSource',\n",
       "       'Employment', 'Country', 'Student', 'EdLevel', 'UndergradMajor',\n",
       "       'EduOther', 'OrgSize', 'DevType', 'YearsCode', 'Age1stCode',\n",
       "       'YearsCodePro', 'CareerSat', 'JobSat', 'MgrIdiot', 'MgrMoney',\n",
       "       'MgrWant', 'JobSeek', 'LastHireDate', 'LastInt', 'FizzBuzz',\n",
       "       'JobFactors', 'ResumeUpdate', 'CurrencySymbol', 'CurrencyDesc',\n",
       "       'CompTotal', 'CompFreq', 'ConvertedComp', 'WorkWeekHrs', 'WorkPlan',\n",
       "       'WorkChallenge', 'WorkRemote', 'WorkLoc', 'ImpSyn', 'CodeRev',\n",
       "       'CodeRevHrs', 'UnitTests', 'PurchaseHow', 'PurchaseWhat',\n",
       "       'LanguageWorkedWith', 'LanguageDesireNextYear', 'DatabaseWorkedWith',\n",
       "       'DatabaseDesireNextYear', 'PlatformWorkedWith',\n",
       "       'PlatformDesireNextYear', 'WebFrameWorkedWith',\n",
       "       'WebFrameDesireNextYear', 'MiscTechWorkedWith',\n",
       "       'MiscTechDesireNextYear', 'DevEnviron', 'OpSys', 'Containers',\n",
       "       'BlockchainOrg', 'BlockchainIs', 'BetterLife', 'ITperson', 'OffOn',\n",
       "       'SocialMedia', 'Extraversion', 'ScreenName', 'SOVisit1st',\n",
       "       'SOVisitFreq', 'SOVisitTo', 'SOFindAnswer', 'SOTimeSaved',\n",
       "       'SOHowMuchTime', 'SOAccount', 'SOPartFreq', 'SOJobs', 'EntTeams',\n",
       "       'SOComm', 'WelcomeChange', 'SONewContent', 'Age', 'Gender', 'Trans',\n",
       "       'Sexuality', 'Ethnicity', 'Dependents', 'SurveyLength', 'SurveyEase'],\n",
       "      dtype='object')"
      ]
     },
     "execution_count": 4,
     "metadata": {},
     "output_type": "execute_result"
    }
   ],
   "source": [
    "# attributes for each response\n",
    "df_main.columns"
   ]
  },
  {
   "cell_type": "markdown",
   "metadata": {},
   "source": [
    "**For better comparison, the analysis is limited to only the United States else additional factors such as work conditions and economy will need to be factored into the analysis**"
   ]
  },
  {
   "cell_type": "code",
   "execution_count": 5,
   "metadata": {},
   "outputs": [
    {
     "data": {
      "text/plain": [
       "Country    1\n",
       "dtype: int64"
      ]
     },
     "execution_count": 5,
     "metadata": {},
     "output_type": "execute_result"
    }
   ],
   "source": [
    "df_main = df_main[df_main[\"Country\"]==\"United States\"]\n",
    "df_main[['Country']].nunique() # Get list of countries in the Country Columns"
   ]
  },
  {
   "cell_type": "markdown",
   "metadata": {},
   "source": [
    "## 3) Data Preparation"
   ]
  },
  {
   "cell_type": "markdown",
   "metadata": {},
   "source": [
    "**Clean**"
   ]
  },
  {
   "cell_type": "code",
   "execution_count": 6,
   "metadata": {},
   "outputs": [
    {
     "data": {
      "text/html": [
       "<div>\n",
       "<style scoped>\n",
       "    .dataframe tbody tr th:only-of-type {\n",
       "        vertical-align: middle;\n",
       "    }\n",
       "\n",
       "    .dataframe tbody tr th {\n",
       "        vertical-align: top;\n",
       "    }\n",
       "\n",
       "    .dataframe thead th {\n",
       "        text-align: right;\n",
       "    }\n",
       "</style>\n",
       "<table border=\"1\" class=\"dataframe\">\n",
       "  <thead>\n",
       "    <tr style=\"text-align: right;\">\n",
       "      <th></th>\n",
       "      <th>Respondent</th>\n",
       "      <th>Employment</th>\n",
       "      <th>EdLevel</th>\n",
       "      <th>EduOther</th>\n",
       "      <th>OrgSize</th>\n",
       "      <th>DevType</th>\n",
       "      <th>YearsCode</th>\n",
       "      <th>YearsCodePro</th>\n",
       "      <th>Age1stCode</th>\n",
       "      <th>CareerSat</th>\n",
       "      <th>JobSat</th>\n",
       "      <th>CompTotal</th>\n",
       "      <th>ConvertedComp</th>\n",
       "      <th>MgrIdiot</th>\n",
       "      <th>MgrMoney</th>\n",
       "      <th>MgrWant</th>\n",
       "    </tr>\n",
       "  </thead>\n",
       "  <tbody>\n",
       "    <tr>\n",
       "      <th>3</th>\n",
       "      <td>4</td>\n",
       "      <td>Employed full-time</td>\n",
       "      <td>Bachelor’s degree (BA, BS, B.Eng., etc.)</td>\n",
       "      <td>Taken an online course in programming or softw...</td>\n",
       "      <td>100 to 499 employees</td>\n",
       "      <td>Developer, full-stack</td>\n",
       "      <td>3</td>\n",
       "      <td>Less than 1 year</td>\n",
       "      <td>16</td>\n",
       "      <td>Very satisfied</td>\n",
       "      <td>Slightly satisfied</td>\n",
       "      <td>61000.0</td>\n",
       "      <td>61000.0</td>\n",
       "      <td>Very confident</td>\n",
       "      <td>No</td>\n",
       "      <td>Not sure</td>\n",
       "    </tr>\n",
       "    <tr>\n",
       "      <th>12</th>\n",
       "      <td>13</td>\n",
       "      <td>Employed full-time</td>\n",
       "      <td>Master’s degree (MA, MS, M.Eng., MBA, etc.)</td>\n",
       "      <td>Taken an online course in programming or softw...</td>\n",
       "      <td>10 to 19 employees</td>\n",
       "      <td>Data or business analyst;Database administrato...</td>\n",
       "      <td>17</td>\n",
       "      <td>8</td>\n",
       "      <td>11</td>\n",
       "      <td>Very satisfied</td>\n",
       "      <td>Very satisfied</td>\n",
       "      <td>90000.0</td>\n",
       "      <td>90000.0</td>\n",
       "      <td>NaN</td>\n",
       "      <td>NaN</td>\n",
       "      <td>NaN</td>\n",
       "    </tr>\n",
       "  </tbody>\n",
       "</table>\n",
       "</div>"
      ],
      "text/plain": [
       "    Respondent          Employment  \\\n",
       "3            4  Employed full-time   \n",
       "12          13  Employed full-time   \n",
       "\n",
       "                                        EdLevel  \\\n",
       "3      Bachelor’s degree (BA, BS, B.Eng., etc.)   \n",
       "12  Master’s degree (MA, MS, M.Eng., MBA, etc.)   \n",
       "\n",
       "                                             EduOther               OrgSize  \\\n",
       "3   Taken an online course in programming or softw...  100 to 499 employees   \n",
       "12  Taken an online course in programming or softw...    10 to 19 employees   \n",
       "\n",
       "                                              DevType YearsCode  \\\n",
       "3                               Developer, full-stack         3   \n",
       "12  Data or business analyst;Database administrato...        17   \n",
       "\n",
       "        YearsCodePro Age1stCode       CareerSat              JobSat  \\\n",
       "3   Less than 1 year         16  Very satisfied  Slightly satisfied   \n",
       "12                 8         11  Very satisfied      Very satisfied   \n",
       "\n",
       "    CompTotal  ConvertedComp        MgrIdiot MgrMoney   MgrWant  \n",
       "3     61000.0        61000.0  Very confident       No  Not sure  \n",
       "12    90000.0        90000.0             NaN      NaN       NaN  "
      ]
     },
     "execution_count": 6,
     "metadata": {},
     "output_type": "execute_result"
    }
   ],
   "source": [
    "# Remove unused columns\n",
    "df_main = df_main[[\"Respondent\", \"Employment\", \"EdLevel\", \"EduOther\", \"OrgSize\", \"DevType\", \n",
    "     \"YearsCode\", \"YearsCodePro\", \"Age1stCode\", \"CareerSat\", \"JobSat\", \"CompTotal\", \n",
    "     'ConvertedComp', \"MgrIdiot\", \"MgrMoney\", \"MgrWant\"]]\n",
    "df_main.head(2)"
   ]
  },
  {
   "cell_type": "code",
   "execution_count": 7,
   "metadata": {},
   "outputs": [
    {
     "data": {
      "text/plain": [
       "Respondent         int64\n",
       "Employment        object\n",
       "EdLevel           object\n",
       "EduOther          object\n",
       "OrgSize           object\n",
       "DevType           object\n",
       "YearsCode         object\n",
       "YearsCodePro      object\n",
       "Age1stCode        object\n",
       "CareerSat         object\n",
       "JobSat            object\n",
       "CompTotal        float64\n",
       "ConvertedComp    float64\n",
       "MgrIdiot          object\n",
       "MgrMoney          object\n",
       "MgrWant           object\n",
       "dtype: object"
      ]
     },
     "execution_count": 7,
     "metadata": {},
     "output_type": "execute_result"
    }
   ],
   "source": [
    "df_main.dtypes"
   ]
  },
  {
   "cell_type": "markdown",
   "metadata": {},
   "source": [
    "**Transform Data especially attributes like: YearsCode and YearsCodePro that have 'Less than 1 year' as a value**"
   ]
  },
  {
   "cell_type": "code",
   "execution_count": 8,
   "metadata": {},
   "outputs": [],
   "source": [
    "# Convert the YearsCodePro to Number\n",
    "def to_num(df, col):\n",
    "    '''\n",
    "    input: \n",
    "        df - dataframe \n",
    "        col - column name of attribute that needs to be converted\n",
    "    output:\n",
    "        df - dataframe with df[col] transformed to integers. non representable values are replaced with NaN\n",
    "    '''\n",
    "    df.dropna(subset=[col], inplace=True) \n",
    "    df = df.replace('Less than 1 year', '0')\n",
    "    #df = df.replace('More than 50 years', '51')\n",
    "    df[col] = pd.to_numeric(df[col], errors='coerce')\n",
    "    return df\n",
    "\n",
    "df_main = to_num(df_main, 'YearsCodePro')\n",
    "df_main = to_num(df_main, 'YearsCode')\n",
    "df_main = to_num(df_main, 'Age1stCode')"
   ]
  },
  {
   "cell_type": "markdown",
   "metadata": {},
   "source": [
    "**Missing values**"
   ]
  },
  {
   "cell_type": "code",
   "execution_count": 9,
   "metadata": {},
   "outputs": [
    {
     "name": "stdout",
     "output_type": "stream",
     "text": [
      "Respondent       0.000000\n",
      "Employment       0.003230\n",
      "EdLevel          0.007116\n",
      "EduOther         0.017023\n",
      "OrgSize          0.060157\n",
      "DevType          0.029613\n",
      "YearsCode        0.002792\n",
      "YearsCodePro     0.000876\n",
      "Age1stCode       0.004872\n",
      "CareerSat        0.028245\n",
      "JobSat           0.048333\n",
      "CompTotal        0.183316\n",
      "ConvertedComp    0.184903\n",
      "MgrIdiot         0.179649\n",
      "MgrMoney         0.179265\n",
      "MgrWant          0.178718\n",
      "dtype: float64\n"
     ]
    }
   ],
   "source": [
    "# Find proportion of the each atribute with missing values\n",
    "print(df_main.isnull().sum()/len(df_main))"
   ]
  },
  {
   "cell_type": "markdown",
   "metadata": {},
   "source": [
    "Rows and columns with NaN values are not removed at this stage. They will be removed accordingly as we answer each of the questions. \n"
   ]
  },
  {
   "cell_type": "code",
   "execution_count": 10,
   "metadata": {},
   "outputs": [
    {
     "data": {
      "text/html": [
       "<div>\n",
       "<style scoped>\n",
       "    .dataframe tbody tr th:only-of-type {\n",
       "        vertical-align: middle;\n",
       "    }\n",
       "\n",
       "    .dataframe tbody tr th {\n",
       "        vertical-align: top;\n",
       "    }\n",
       "\n",
       "    .dataframe thead th {\n",
       "        text-align: right;\n",
       "    }\n",
       "</style>\n",
       "<table border=\"1\" class=\"dataframe\">\n",
       "  <thead>\n",
       "    <tr style=\"text-align: right;\">\n",
       "      <th></th>\n",
       "      <th>Respondent</th>\n",
       "      <th>YearsCode</th>\n",
       "      <th>YearsCodePro</th>\n",
       "      <th>Age1stCode</th>\n",
       "      <th>CompTotal</th>\n",
       "      <th>ConvertedComp</th>\n",
       "    </tr>\n",
       "  </thead>\n",
       "  <tbody>\n",
       "    <tr>\n",
       "      <th>count</th>\n",
       "      <td>18269.000000</td>\n",
       "      <td>18218.000000</td>\n",
       "      <td>18253.000000</td>\n",
       "      <td>18180.000000</td>\n",
       "      <td>1.492000e+04</td>\n",
       "      <td>1.489100e+04</td>\n",
       "    </tr>\n",
       "    <tr>\n",
       "      <th>mean</th>\n",
       "      <td>44566.486562</td>\n",
       "      <td>14.933692</td>\n",
       "      <td>9.875308</td>\n",
       "      <td>15.259351</td>\n",
       "      <td>1.340483e+12</td>\n",
       "      <td>2.491618e+05</td>\n",
       "    </tr>\n",
       "    <tr>\n",
       "      <th>std</th>\n",
       "      <td>25558.740406</td>\n",
       "      <td>10.288632</td>\n",
       "      <td>8.927571</td>\n",
       "      <td>5.420642</td>\n",
       "      <td>1.157753e+14</td>\n",
       "      <td>4.515211e+05</td>\n",
       "    </tr>\n",
       "    <tr>\n",
       "      <th>min</th>\n",
       "      <td>4.000000</td>\n",
       "      <td>0.000000</td>\n",
       "      <td>0.000000</td>\n",
       "      <td>5.000000</td>\n",
       "      <td>0.000000e+00</td>\n",
       "      <td>0.000000e+00</td>\n",
       "    </tr>\n",
       "    <tr>\n",
       "      <th>25%</th>\n",
       "      <td>22529.000000</td>\n",
       "      <td>7.000000</td>\n",
       "      <td>3.000000</td>\n",
       "      <td>12.000000</td>\n",
       "      <td>7.500000e+04</td>\n",
       "      <td>8.000000e+04</td>\n",
       "    </tr>\n",
       "    <tr>\n",
       "      <th>50%</th>\n",
       "      <td>44539.000000</td>\n",
       "      <td>12.000000</td>\n",
       "      <td>7.000000</td>\n",
       "      <td>15.000000</td>\n",
       "      <td>1.020000e+05</td>\n",
       "      <td>1.100000e+05</td>\n",
       "    </tr>\n",
       "    <tr>\n",
       "      <th>75%</th>\n",
       "      <td>66695.000000</td>\n",
       "      <td>20.000000</td>\n",
       "      <td>14.000000</td>\n",
       "      <td>18.000000</td>\n",
       "      <td>1.400000e+05</td>\n",
       "      <td>1.600000e+05</td>\n",
       "    </tr>\n",
       "    <tr>\n",
       "      <th>max</th>\n",
       "      <td>88880.000000</td>\n",
       "      <td>50.000000</td>\n",
       "      <td>50.000000</td>\n",
       "      <td>66.000000</td>\n",
       "      <td>1.000000e+16</td>\n",
       "      <td>2.000000e+06</td>\n",
       "    </tr>\n",
       "  </tbody>\n",
       "</table>\n",
       "</div>"
      ],
      "text/plain": [
       "         Respondent     YearsCode  YearsCodePro    Age1stCode     CompTotal  \\\n",
       "count  18269.000000  18218.000000  18253.000000  18180.000000  1.492000e+04   \n",
       "mean   44566.486562     14.933692      9.875308     15.259351  1.340483e+12   \n",
       "std    25558.740406     10.288632      8.927571      5.420642  1.157753e+14   \n",
       "min        4.000000      0.000000      0.000000      5.000000  0.000000e+00   \n",
       "25%    22529.000000      7.000000      3.000000     12.000000  7.500000e+04   \n",
       "50%    44539.000000     12.000000      7.000000     15.000000  1.020000e+05   \n",
       "75%    66695.000000     20.000000     14.000000     18.000000  1.400000e+05   \n",
       "max    88880.000000     50.000000     50.000000     66.000000  1.000000e+16   \n",
       "\n",
       "       ConvertedComp  \n",
       "count   1.489100e+04  \n",
       "mean    2.491618e+05  \n",
       "std     4.515211e+05  \n",
       "min     0.000000e+00  \n",
       "25%     8.000000e+04  \n",
       "50%     1.100000e+05  \n",
       "75%     1.600000e+05  \n",
       "max     2.000000e+06  "
      ]
     },
     "execution_count": 10,
     "metadata": {},
     "output_type": "execute_result"
    }
   ],
   "source": [
    "df_main.describe()"
   ]
  },
  {
   "cell_type": "markdown",
   "metadata": {},
   "source": [
    "## 4) Answer questions"
   ]
  },
  {
   "cell_type": "markdown",
   "metadata": {},
   "source": [
    "### 1. Are people with high school degrees paid at same rate as people with college education?\n"
   ]
  },
  {
   "cell_type": "code",
   "execution_count": 11,
   "metadata": {},
   "outputs": [
    {
     "data": {
      "text/html": [
       "<div>\n",
       "<style scoped>\n",
       "    .dataframe tbody tr th:only-of-type {\n",
       "        vertical-align: middle;\n",
       "    }\n",
       "\n",
       "    .dataframe tbody tr th {\n",
       "        vertical-align: top;\n",
       "    }\n",
       "\n",
       "    .dataframe thead th {\n",
       "        text-align: right;\n",
       "    }\n",
       "</style>\n",
       "<table border=\"1\" class=\"dataframe\">\n",
       "  <thead>\n",
       "    <tr style=\"text-align: right;\">\n",
       "      <th></th>\n",
       "      <th>EdLevel</th>\n",
       "      <th>Count</th>\n",
       "      <th>Percentage</th>\n",
       "    </tr>\n",
       "  </thead>\n",
       "  <tbody>\n",
       "    <tr>\n",
       "      <th>0</th>\n",
       "      <td>Bachelor’s degree (BA, BS, B.Eng., etc.)</td>\n",
       "      <td>10442</td>\n",
       "      <td>0.575666</td>\n",
       "    </tr>\n",
       "    <tr>\n",
       "      <th>1</th>\n",
       "      <td>Master’s degree (MA, MS, M.Eng., MBA, etc.)</td>\n",
       "      <td>3418</td>\n",
       "      <td>0.188434</td>\n",
       "    </tr>\n",
       "    <tr>\n",
       "      <th>2</th>\n",
       "      <td>Some college/university study without earning ...</td>\n",
       "      <td>2195</td>\n",
       "      <td>0.121010</td>\n",
       "    </tr>\n",
       "    <tr>\n",
       "      <th>3</th>\n",
       "      <td>Associate degree</td>\n",
       "      <td>807</td>\n",
       "      <td>0.044490</td>\n",
       "    </tr>\n",
       "    <tr>\n",
       "      <th>4</th>\n",
       "      <td>Other doctoral degree (Ph.D, Ed.D., etc.)</td>\n",
       "      <td>634</td>\n",
       "      <td>0.034952</td>\n",
       "    </tr>\n",
       "    <tr>\n",
       "      <th>5</th>\n",
       "      <td>Secondary school (e.g. American high school, G...</td>\n",
       "      <td>421</td>\n",
       "      <td>0.023210</td>\n",
       "    </tr>\n",
       "    <tr>\n",
       "      <th>6</th>\n",
       "      <td>Professional degree (JD, MD, etc.)</td>\n",
       "      <td>100</td>\n",
       "      <td>0.005513</td>\n",
       "    </tr>\n",
       "    <tr>\n",
       "      <th>7</th>\n",
       "      <td>Primary/elementary school</td>\n",
       "      <td>61</td>\n",
       "      <td>0.003363</td>\n",
       "    </tr>\n",
       "    <tr>\n",
       "      <th>8</th>\n",
       "      <td>I never completed any formal education</td>\n",
       "      <td>61</td>\n",
       "      <td>0.003363</td>\n",
       "    </tr>\n",
       "  </tbody>\n",
       "</table>\n",
       "</div>"
      ],
      "text/plain": [
       "                                             EdLevel  Count  Percentage\n",
       "0           Bachelor’s degree (BA, BS, B.Eng., etc.)  10442    0.575666\n",
       "1        Master’s degree (MA, MS, M.Eng., MBA, etc.)   3418    0.188434\n",
       "2  Some college/university study without earning ...   2195    0.121010\n",
       "3                                   Associate degree    807    0.044490\n",
       "4          Other doctoral degree (Ph.D, Ed.D., etc.)    634    0.034952\n",
       "5  Secondary school (e.g. American high school, G...    421    0.023210\n",
       "6                 Professional degree (JD, MD, etc.)    100    0.005513\n",
       "7                          Primary/elementary school     61    0.003363\n",
       "8             I never completed any formal education     61    0.003363"
      ]
     },
     "execution_count": 11,
     "metadata": {},
     "output_type": "execute_result"
    }
   ],
   "source": [
    "# Observe the distribution of the dataset based on educational level\n",
    "df = df_main\n",
    "counts = df.groupby('EdLevel').size().sort_values(ascending=False).reset_index(name='Count')\n",
    "counts[\"Percentage\"] = counts['Count'] / np.sum(counts['Count'])\n",
    "counts"
   ]
  },
  {
   "cell_type": "markdown",
   "metadata": {},
   "source": [
    "**More than 60% of those who ocmpleted the survey in the United States have a bachelor's, Master's, Doctorate or Professional Degree. Only about 5% have a High School Diploma with an additional 12% having some college education.**"
   ]
  },
  {
   "cell_type": "code",
   "execution_count": 12,
   "metadata": {},
   "outputs": [
    {
     "data": {
      "text/plain": [
       "array(['Bachelor’s degree (BA, BS, B.Eng., etc.)',\n",
       "       'Master’s degree (MA, MS, M.Eng., MBA, etc.)',\n",
       "       'Some college/university study without earning a degree',\n",
       "       'Associate degree', 'Other doctoral degree (Ph.D, Ed.D., etc.)',\n",
       "       'Secondary school (e.g. American high school, German Realschule or Gymnasium, etc.)',\n",
       "       'Professional degree (JD, MD, etc.)',\n",
       "       'I never completed any formal education', nan,\n",
       "       'Primary/elementary school'], dtype=object)"
      ]
     },
     "execution_count": 12,
     "metadata": {},
     "output_type": "execute_result"
    }
   ],
   "source": [
    "# List educational levels present in the dataset\n",
    "df.EdLevel.unique()"
   ]
  },
  {
   "cell_type": "markdown",
   "metadata": {},
   "source": [
    "#### Group the data into highschool / post high school\n",
    "\n",
    "In other to see how people with only Hgh School degree compare in the survey engineering market, they are grouped with those with some college and compared to those who have a bachelor's, Master's, Doctorate or Professional Degree"
   ]
  },
  {
   "cell_type": "code",
   "execution_count": 13,
   "metadata": {},
   "outputs": [
    {
     "data": {
      "text/html": [
       "<div>\n",
       "<style scoped>\n",
       "    .dataframe tbody tr th:only-of-type {\n",
       "        vertical-align: middle;\n",
       "    }\n",
       "\n",
       "    .dataframe tbody tr th {\n",
       "        vertical-align: top;\n",
       "    }\n",
       "\n",
       "    .dataframe thead th {\n",
       "        text-align: right;\n",
       "    }\n",
       "</style>\n",
       "<table border=\"1\" class=\"dataframe\">\n",
       "  <thead>\n",
       "    <tr style=\"text-align: right;\">\n",
       "      <th></th>\n",
       "      <th>Respondent</th>\n",
       "      <th>Employment</th>\n",
       "      <th>EdLevel</th>\n",
       "      <th>EduOther</th>\n",
       "      <th>OrgSize</th>\n",
       "      <th>DevType</th>\n",
       "      <th>YearsCode</th>\n",
       "      <th>YearsCodePro</th>\n",
       "      <th>Age1stCode</th>\n",
       "      <th>CareerSat</th>\n",
       "      <th>JobSat</th>\n",
       "      <th>CompTotal</th>\n",
       "      <th>ConvertedComp</th>\n",
       "      <th>MgrIdiot</th>\n",
       "      <th>MgrMoney</th>\n",
       "      <th>MgrWant</th>\n",
       "    </tr>\n",
       "  </thead>\n",
       "  <tbody>\n",
       "    <tr>\n",
       "      <th>21</th>\n",
       "      <td>22</td>\n",
       "      <td>Employed full-time</td>\n",
       "      <td>Some college/university study without earning ...</td>\n",
       "      <td>Taken an online course in programming or softw...</td>\n",
       "      <td>10,000 or more employees</td>\n",
       "      <td>Data or business analyst;Designer;Developer, b...</td>\n",
       "      <td>35.0</td>\n",
       "      <td>18.0</td>\n",
       "      <td>12.0</td>\n",
       "      <td>Slightly satisfied</td>\n",
       "      <td>Very dissatisfied</td>\n",
       "      <td>103000.0</td>\n",
       "      <td>103000.0</td>\n",
       "      <td>Somewhat confident</td>\n",
       "      <td>No</td>\n",
       "      <td>No</td>\n",
       "    </tr>\n",
       "    <tr>\n",
       "      <th>25</th>\n",
       "      <td>26</td>\n",
       "      <td>Employed full-time</td>\n",
       "      <td>Some college/university study without earning ...</td>\n",
       "      <td>Taught yourself a new language, framework, or ...</td>\n",
       "      <td>10,000 or more employees</td>\n",
       "      <td>Designer;Developer, back-end;Developer, deskto...</td>\n",
       "      <td>12.0</td>\n",
       "      <td>8.0</td>\n",
       "      <td>8.0</td>\n",
       "      <td>Very satisfied</td>\n",
       "      <td>Very satisfied</td>\n",
       "      <td>114000.0</td>\n",
       "      <td>114000.0</td>\n",
       "      <td>NaN</td>\n",
       "      <td>NaN</td>\n",
       "      <td>NaN</td>\n",
       "    </tr>\n",
       "    <tr>\n",
       "      <th>52</th>\n",
       "      <td>53</td>\n",
       "      <td>Employed full-time</td>\n",
       "      <td>Secondary school (e.g. American high school, G...</td>\n",
       "      <td>Taken an online course in programming or softw...</td>\n",
       "      <td>500 to 999 employees</td>\n",
       "      <td>Developer, full-stack;DevOps specialist;Engine...</td>\n",
       "      <td>5.0</td>\n",
       "      <td>3.0</td>\n",
       "      <td>10.0</td>\n",
       "      <td>Slightly satisfied</td>\n",
       "      <td>Slightly satisfied</td>\n",
       "      <td>47300.0</td>\n",
       "      <td>47300.0</td>\n",
       "      <td>Somewhat confident</td>\n",
       "      <td>Not sure</td>\n",
       "      <td>Not sure</td>\n",
       "    </tr>\n",
       "    <tr>\n",
       "      <th>59</th>\n",
       "      <td>60</td>\n",
       "      <td>Employed full-time</td>\n",
       "      <td>Secondary school (e.g. American high school, G...</td>\n",
       "      <td>Taught yourself a new language, framework, or ...</td>\n",
       "      <td>100 to 499 employees</td>\n",
       "      <td>Developer, back-end;DevOps specialist</td>\n",
       "      <td>10.0</td>\n",
       "      <td>9.0</td>\n",
       "      <td>13.0</td>\n",
       "      <td>Slightly satisfied</td>\n",
       "      <td>Neither satisfied nor dissatisfied</td>\n",
       "      <td>107000.0</td>\n",
       "      <td>107000.0</td>\n",
       "      <td>Somewhat confident</td>\n",
       "      <td>Yes</td>\n",
       "      <td>No</td>\n",
       "    </tr>\n",
       "    <tr>\n",
       "      <th>60</th>\n",
       "      <td>61</td>\n",
       "      <td>Employed full-time</td>\n",
       "      <td>Some college/university study without earning ...</td>\n",
       "      <td>Taken an online course in programming or softw...</td>\n",
       "      <td>20 to 99 employees</td>\n",
       "      <td>Database administrator;Designer;Developer, bac...</td>\n",
       "      <td>15.0</td>\n",
       "      <td>8.0</td>\n",
       "      <td>10.0</td>\n",
       "      <td>Very satisfied</td>\n",
       "      <td>Very satisfied</td>\n",
       "      <td>66000.0</td>\n",
       "      <td>66000.0</td>\n",
       "      <td>Very confident</td>\n",
       "      <td>No</td>\n",
       "      <td>Not sure</td>\n",
       "    </tr>\n",
       "  </tbody>\n",
       "</table>\n",
       "</div>"
      ],
      "text/plain": [
       "    Respondent          Employment  \\\n",
       "21          22  Employed full-time   \n",
       "25          26  Employed full-time   \n",
       "52          53  Employed full-time   \n",
       "59          60  Employed full-time   \n",
       "60          61  Employed full-time   \n",
       "\n",
       "                                              EdLevel  \\\n",
       "21  Some college/university study without earning ...   \n",
       "25  Some college/university study without earning ...   \n",
       "52  Secondary school (e.g. American high school, G...   \n",
       "59  Secondary school (e.g. American high school, G...   \n",
       "60  Some college/university study without earning ...   \n",
       "\n",
       "                                             EduOther  \\\n",
       "21  Taken an online course in programming or softw...   \n",
       "25  Taught yourself a new language, framework, or ...   \n",
       "52  Taken an online course in programming or softw...   \n",
       "59  Taught yourself a new language, framework, or ...   \n",
       "60  Taken an online course in programming or softw...   \n",
       "\n",
       "                     OrgSize  \\\n",
       "21  10,000 or more employees   \n",
       "25  10,000 or more employees   \n",
       "52      500 to 999 employees   \n",
       "59      100 to 499 employees   \n",
       "60        20 to 99 employees   \n",
       "\n",
       "                                              DevType  YearsCode  \\\n",
       "21  Data or business analyst;Designer;Developer, b...       35.0   \n",
       "25  Designer;Developer, back-end;Developer, deskto...       12.0   \n",
       "52  Developer, full-stack;DevOps specialist;Engine...        5.0   \n",
       "59              Developer, back-end;DevOps specialist       10.0   \n",
       "60  Database administrator;Designer;Developer, bac...       15.0   \n",
       "\n",
       "    YearsCodePro  Age1stCode           CareerSat  \\\n",
       "21          18.0        12.0  Slightly satisfied   \n",
       "25           8.0         8.0      Very satisfied   \n",
       "52           3.0        10.0  Slightly satisfied   \n",
       "59           9.0        13.0  Slightly satisfied   \n",
       "60           8.0        10.0      Very satisfied   \n",
       "\n",
       "                                JobSat  CompTotal  ConvertedComp  \\\n",
       "21                   Very dissatisfied   103000.0       103000.0   \n",
       "25                      Very satisfied   114000.0       114000.0   \n",
       "52                  Slightly satisfied    47300.0        47300.0   \n",
       "59  Neither satisfied nor dissatisfied   107000.0       107000.0   \n",
       "60                      Very satisfied    66000.0        66000.0   \n",
       "\n",
       "              MgrIdiot  MgrMoney   MgrWant  \n",
       "21  Somewhat confident        No        No  \n",
       "25                 NaN       NaN       NaN  \n",
       "52  Somewhat confident  Not sure  Not sure  \n",
       "59  Somewhat confident       Yes        No  \n",
       "60      Very confident        No  Not sure  "
      ]
     },
     "execution_count": 13,
     "metadata": {},
     "output_type": "execute_result"
    }
   ],
   "source": [
    "HighSchool_SomeCollege = df[df.EdLevel.isin(['Some college/university study without earning a degree', 'Secondary school (e.g. American high school, German Realschule or Gymnasium, etc.)'])]\n",
    "AboveHighSchool = df[df[\"EdLevel\"].isin(['Bachelor’s degree (BA, BS, B.Eng., etc.)',\n",
    "       'Master’s degree (MA, MS, M.Eng., MBA, etc.)', 'Other doctoral degree (Ph.D, Ed.D., etc.)',\n",
    "        'Professional degree (JD, MD, etc.)'])]\n",
    "HighSchool_SomeCollege.head(5)"
   ]
  },
  {
   "cell_type": "code",
   "execution_count": 14,
   "metadata": {},
   "outputs": [
    {
     "name": "stdout",
     "output_type": "stream",
     "text": [
      "(2616, 16)\n",
      "(14594, 16)\n"
     ]
    }
   ],
   "source": [
    "print(HighSchool_SomeCollege.shape)\n",
    "print(AboveHighSchool.shape)"
   ]
  },
  {
   "cell_type": "markdown",
   "metadata": {},
   "source": [
    "**15,330 of the respondents in the from the United States have post high school education while 3,892 have only high school/some college education**"
   ]
  },
  {
   "cell_type": "code",
   "execution_count": 15,
   "metadata": {},
   "outputs": [
    {
     "data": {
      "image/png": "[encoded data removed]",
      "text/plain": [
       "<Figure size 1500x600 with 1 Axes>"
      ]
     },
     "metadata": {
      "needs_background": "light"
     },
     "output_type": "display_data"
    }
   ],
   "source": [
    "# How do they compare in career satisfaction?\n",
    "a = HighSchool_SomeCollege.CareerSat.value_counts(normalize=True)\n",
    "b = AboveHighSchool.CareerSat.value_counts(normalize=True)\n",
    "\n",
    "a = a.reset_index()\n",
    "a.columns = ['Satisfaction Level', 'High School']\n",
    "\n",
    "b = b.reset_index()\n",
    "b.columns = ['Satisfaction Level', 'Post High School']\n",
    "\n",
    "c = pd.merge(a, b, on='Satisfaction Level')\n",
    "\n",
    "# How do they compare in career satisfaction?\n",
    "fig, axes = plt.subplots(ncols=1, figsize=(15, 6), dpi=100)\n",
    "c.plot(kind=\"bar\", x='Satisfaction Level', ax=axes, rot=0)\n",
    "\n",
    "axes.set_ylabel('Career Satisfaction', size=15, labelpad=10)\n",
    "axes.tick_params(axis='x', labelsize=12)\n",
    "axes.tick_params(axis='y', labelsize=12)\n",
    "axes.set_title('Career Satisfaction', fontsize=14)\n",
    "\n",
    "plt.show()"
   ]
  },
  {
   "cell_type": "markdown",
   "metadata": {},
   "source": [
    "**Interestingly, in terms of career satisfaction, both population show similar distribution: about 53% say they are very satisfied, about 31% say they are slightly satisfied. The remaining 15-20% are somewhat dissatisfied or neutral.**"
   ]
  },
  {
   "cell_type": "markdown",
   "metadata": {},
   "source": [
    "#### What about Job Satisfaction?"
   ]
  },
  {
   "cell_type": "code",
   "execution_count": 16,
   "metadata": {},
   "outputs": [
    {
     "data": {
      "image/png": "[encoded data removed]",
      "text/plain": [
       "<Figure size 1500x600 with 1 Axes>"
      ]
     },
     "metadata": {
      "needs_background": "light"
     },
     "output_type": "display_data"
    }
   ],
   "source": [
    "# How do they compare in Job Satisfaction?\n",
    "a = HighSchool_SomeCollege.JobSat.value_counts(normalize=True)\n",
    "b = AboveHighSchool.JobSat.value_counts(normalize=True)\n",
    "\n",
    "a = a.reset_index()\n",
    "a.columns = ['Satisfaction Level', 'High School']\n",
    "\n",
    "b = b.reset_index()\n",
    "b.columns = ['Satisfaction Level', 'Post High School']\n",
    "\n",
    "c = pd.merge(a, b, on='Satisfaction Level')\n",
    "\n",
    "# How do they compare in career satisfaction?\n",
    "fig, axes = plt.subplots(ncols=1, figsize=(15, 6), dpi=100)\n",
    "\n",
    "c.plot(kind=\"bar\", x='Satisfaction Level', ax=axes, rot=0)\n",
    "\n",
    "axes.set_ylabel('Job Satisfaction', size=15, labelpad=10)\n",
    "axes.tick_params(axis='x', labelsize=12)\n",
    "axes.tick_params(axis='y', labelsize=12)\n",
    "axes.set_title('Job Satisfaction', fontsize=14)\n",
    "\n",
    "plt.show()"
   ]
  },
  {
   "cell_type": "markdown",
   "metadata": {},
   "source": [
    "1. **Interestingly, in terms of job satisfaction, both population show similar distribution: about 41% say they are very satisfied, about 34% say they are slightly satisfied. The rest are either dissatisfied or neutral**\n",
    "2. **Also, people are more satisfied with their career in Software Engineering than they are with their actual jobs.**"
   ]
  },
  {
   "cell_type": "markdown",
   "metadata": {},
   "source": [
    "### 2. Are people with high school degrees paid at same rate as people with college education?"
   ]
  },
  {
   "cell_type": "code",
   "execution_count": 17,
   "metadata": {},
   "outputs": [
    {
     "data": {
      "text/plain": [
       "Index(['Respondent', 'Employment', 'EdLevel', 'EduOther', 'OrgSize', 'DevType',\n",
       "       'YearsCode', 'YearsCodePro', 'Age1stCode', 'CareerSat', 'JobSat',\n",
       "       'CompTotal', 'ConvertedComp', 'MgrIdiot', 'MgrMoney', 'MgrWant'],\n",
       "      dtype='object')"
      ]
     },
     "execution_count": 17,
     "metadata": {},
     "output_type": "execute_result"
    }
   ],
   "source": [
    "df_main.columns"
   ]
  },
  {
   "cell_type": "markdown",
   "metadata": {},
   "source": [
    "There seems to be an error in the values above..a max of $1x10^16 is definitely an error. Since we are dealing with the United States, ConvertedComp should equal CompTotal. ConvertedComp is currency adjusted value of CompTotal i.e. converting to US Dollar"
   ]
  },
  {
   "cell_type": "code",
   "execution_count": 18,
   "metadata": {},
   "outputs": [
    {
     "data": {
      "text/html": [
       "<div>\n",
       "<style scoped>\n",
       "    .dataframe tbody tr th:only-of-type {\n",
       "        vertical-align: middle;\n",
       "    }\n",
       "\n",
       "    .dataframe tbody tr th {\n",
       "        vertical-align: top;\n",
       "    }\n",
       "\n",
       "    .dataframe thead th {\n",
       "        text-align: right;\n",
       "    }\n",
       "</style>\n",
       "<table border=\"1\" class=\"dataframe\">\n",
       "  <thead>\n",
       "    <tr style=\"text-align: right;\">\n",
       "      <th></th>\n",
       "      <th>Respondent</th>\n",
       "      <th>YearsCode</th>\n",
       "      <th>YearsCodePro</th>\n",
       "      <th>Age1stCode</th>\n",
       "      <th>CompTotal</th>\n",
       "      <th>ConvertedComp</th>\n",
       "    </tr>\n",
       "  </thead>\n",
       "  <tbody>\n",
       "    <tr>\n",
       "      <th>count</th>\n",
       "      <td>12878.000000</td>\n",
       "      <td>12871.000000</td>\n",
       "      <td>12876.000000</td>\n",
       "      <td>12826.000000</td>\n",
       "      <td>1.287800e+04</td>\n",
       "      <td>1.287800e+04</td>\n",
       "    </tr>\n",
       "    <tr>\n",
       "      <th>mean</th>\n",
       "      <td>44519.633173</td>\n",
       "      <td>14.691166</td>\n",
       "      <td>9.635290</td>\n",
       "      <td>15.158506</td>\n",
       "      <td>1.207046e+05</td>\n",
       "      <td>1.207046e+05</td>\n",
       "    </tr>\n",
       "    <tr>\n",
       "      <th>std</th>\n",
       "      <td>25593.372774</td>\n",
       "      <td>9.945693</td>\n",
       "      <td>8.540177</td>\n",
       "      <td>5.221942</td>\n",
       "      <td>7.711404e+04</td>\n",
       "      <td>7.711404e+04</td>\n",
       "    </tr>\n",
       "    <tr>\n",
       "      <th>min</th>\n",
       "      <td>4.000000</td>\n",
       "      <td>0.000000</td>\n",
       "      <td>0.000000</td>\n",
       "      <td>5.000000</td>\n",
       "      <td>0.000000e+00</td>\n",
       "      <td>0.000000e+00</td>\n",
       "    </tr>\n",
       "    <tr>\n",
       "      <th>25%</th>\n",
       "      <td>22435.500000</td>\n",
       "      <td>7.000000</td>\n",
       "      <td>3.000000</td>\n",
       "      <td>12.000000</td>\n",
       "      <td>8.000000e+04</td>\n",
       "      <td>8.000000e+04</td>\n",
       "    </tr>\n",
       "    <tr>\n",
       "      <th>50%</th>\n",
       "      <td>44617.500000</td>\n",
       "      <td>12.000000</td>\n",
       "      <td>7.000000</td>\n",
       "      <td>15.000000</td>\n",
       "      <td>1.070000e+05</td>\n",
       "      <td>1.070000e+05</td>\n",
       "    </tr>\n",
       "    <tr>\n",
       "      <th>75%</th>\n",
       "      <td>66529.250000</td>\n",
       "      <td>20.000000</td>\n",
       "      <td>14.000000</td>\n",
       "      <td>18.000000</td>\n",
       "      <td>1.440000e+05</td>\n",
       "      <td>1.440000e+05</td>\n",
       "    </tr>\n",
       "    <tr>\n",
       "      <th>max</th>\n",
       "      <td>88878.000000</td>\n",
       "      <td>50.000000</td>\n",
       "      <td>50.000000</td>\n",
       "      <td>55.000000</td>\n",
       "      <td>2.000000e+06</td>\n",
       "      <td>2.000000e+06</td>\n",
       "    </tr>\n",
       "  </tbody>\n",
       "</table>\n",
       "</div>"
      ],
      "text/plain": [
       "         Respondent     YearsCode  YearsCodePro    Age1stCode     CompTotal  \\\n",
       "count  12878.000000  12871.000000  12876.000000  12826.000000  1.287800e+04   \n",
       "mean   44519.633173     14.691166      9.635290     15.158506  1.207046e+05   \n",
       "std    25593.372774      9.945693      8.540177      5.221942  7.711404e+04   \n",
       "min        4.000000      0.000000      0.000000      5.000000  0.000000e+00   \n",
       "25%    22435.500000      7.000000      3.000000     12.000000  8.000000e+04   \n",
       "50%    44617.500000     12.000000      7.000000     15.000000  1.070000e+05   \n",
       "75%    66529.250000     20.000000     14.000000     18.000000  1.440000e+05   \n",
       "max    88878.000000     50.000000     50.000000     55.000000  2.000000e+06   \n",
       "\n",
       "       ConvertedComp  \n",
       "count   1.287800e+04  \n",
       "mean    1.207046e+05  \n",
       "std     7.711404e+04  \n",
       "min     0.000000e+00  \n",
       "25%     8.000000e+04  \n",
       "50%     1.070000e+05  \n",
       "75%     1.440000e+05  \n",
       "max     2.000000e+06  "
      ]
     },
     "execution_count": 18,
     "metadata": {},
     "output_type": "execute_result"
    }
   ],
   "source": [
    "# In order to account for this error, select only rows where \n",
    "# Total Compensation [CompTotal] == Converted Compensation [ConveretedComp]\n",
    "df = df_main[df_main[\"ConvertedComp\"]==df_main[\"CompTotal\"]]\n",
    "df.describe()"
   ]
  },
  {
   "cell_type": "code",
   "execution_count": 19,
   "metadata": {},
   "outputs": [
    {
     "data": {
      "text/plain": [
       "EdLevel         69\n",
       "Employment      13\n",
       "YearsCodePro     2\n",
       "CompTotal        0\n",
       "dtype: int64"
      ]
     },
     "execution_count": 19,
     "metadata": {},
     "output_type": "execute_result"
    }
   ],
   "source": [
    "# Select only the needed columns\n",
    "df = df[['EdLevel', 'Employment', 'YearsCodePro', 'CompTotal']]\n",
    "\n",
    "# View missing values\n",
    "df.isnull().sum()"
   ]
  },
  {
   "cell_type": "markdown",
   "metadata": {},
   "source": [
    "Rows with N/A values in the 'CompTotal' column are dropped to maintain the purity of our analysis; Filling NaN fields with values like the mean and median can bias the result of our analysis."
   ]
  },
  {
   "cell_type": "code",
   "execution_count": 20,
   "metadata": {},
   "outputs": [],
   "source": [
    "# Drop rows with NaN values in CompTotal\n",
    "df = df.dropna(subset=['CompTotal'], axis=0)"
   ]
  },
  {
   "cell_type": "code",
   "execution_count": 21,
   "metadata": {},
   "outputs": [
    {
     "data": {
      "text/html": [
       "<div>\n",
       "<style scoped>\n",
       "    .dataframe tbody tr th:only-of-type {\n",
       "        vertical-align: middle;\n",
       "    }\n",
       "\n",
       "    .dataframe tbody tr th {\n",
       "        vertical-align: top;\n",
       "    }\n",
       "\n",
       "    .dataframe thead th {\n",
       "        text-align: right;\n",
       "    }\n",
       "</style>\n",
       "<table border=\"1\" class=\"dataframe\">\n",
       "  <thead>\n",
       "    <tr style=\"text-align: right;\">\n",
       "      <th></th>\n",
       "      <th>EdLevel</th>\n",
       "      <th>Employment</th>\n",
       "      <th>YearsCodePro</th>\n",
       "      <th>CompTotal</th>\n",
       "    </tr>\n",
       "  </thead>\n",
       "  <tbody>\n",
       "    <tr>\n",
       "      <th>21</th>\n",
       "      <td>Some college/university study without earning ...</td>\n",
       "      <td>Employed full-time</td>\n",
       "      <td>18.0</td>\n",
       "      <td>103000.0</td>\n",
       "    </tr>\n",
       "    <tr>\n",
       "      <th>25</th>\n",
       "      <td>Some college/university study without earning ...</td>\n",
       "      <td>Employed full-time</td>\n",
       "      <td>8.0</td>\n",
       "      <td>114000.0</td>\n",
       "    </tr>\n",
       "    <tr>\n",
       "      <th>52</th>\n",
       "      <td>Secondary school (e.g. American high school, G...</td>\n",
       "      <td>Employed full-time</td>\n",
       "      <td>3.0</td>\n",
       "      <td>47300.0</td>\n",
       "    </tr>\n",
       "    <tr>\n",
       "      <th>59</th>\n",
       "      <td>Secondary school (e.g. American high school, G...</td>\n",
       "      <td>Employed full-time</td>\n",
       "      <td>9.0</td>\n",
       "      <td>107000.0</td>\n",
       "    </tr>\n",
       "    <tr>\n",
       "      <th>60</th>\n",
       "      <td>Some college/university study without earning ...</td>\n",
       "      <td>Employed full-time</td>\n",
       "      <td>8.0</td>\n",
       "      <td>66000.0</td>\n",
       "    </tr>\n",
       "  </tbody>\n",
       "</table>\n",
       "</div>"
      ],
      "text/plain": [
       "                                              EdLevel          Employment  \\\n",
       "21  Some college/university study without earning ...  Employed full-time   \n",
       "25  Some college/university study without earning ...  Employed full-time   \n",
       "52  Secondary school (e.g. American high school, G...  Employed full-time   \n",
       "59  Secondary school (e.g. American high school, G...  Employed full-time   \n",
       "60  Some college/university study without earning ...  Employed full-time   \n",
       "\n",
       "    YearsCodePro  CompTotal  \n",
       "21          18.0   103000.0  \n",
       "25           8.0   114000.0  \n",
       "52           3.0    47300.0  \n",
       "59           9.0   107000.0  \n",
       "60           8.0    66000.0  "
      ]
     },
     "execution_count": 21,
     "metadata": {},
     "output_type": "execute_result"
    }
   ],
   "source": [
    "# For those who are currently employed, does their income compare wih education level\n",
    "HighSchool = df[df.EdLevel.isin(['Some college/university study without earning a degree', 'Secondary school (e.g. American high school, German Realschule or Gymnasium, etc.)'])]\n",
    "PostHighSchool = df[df[\"EdLevel\"].isin(['Bachelor’s degree (BA, BS, B.Eng., etc.)',\n",
    "       'Master’s degree (MA, MS, M.Eng., MBA, etc.)', 'Other doctoral degree (Ph.D, Ed.D., etc.)',\n",
    "        'Professional degree (JD, MD, etc.)'])]\n",
    "\n",
    "HighSchool.head(5)\n"
   ]
  },
  {
   "cell_type": "code",
   "execution_count": 22,
   "metadata": {},
   "outputs": [
    {
     "data": {
      "image/png": "[encoded data removed]",
      "text/plain": [
       "<Figure size 1440x432 with 1 Axes>"
      ]
     },
     "metadata": {
      "needs_background": "light"
     },
     "output_type": "display_data"
    }
   ],
   "source": [
    "#Plot results \n",
    "\n",
    "g1 = HighSchool.groupby(\"YearsCodePro\").mean().reset_index()\n",
    "g2 = PostHighSchool.groupby(\"YearsCodePro\").mean().reset_index()\n",
    "\n",
    "\n",
    "fig, ax = plt.subplots(1, 1, figsize=(20, 6))\n",
    "g1.plot(drawstyle=\"steps-post\", x=\"YearsCodePro\", y=\"CompTotal\", linewidth=2, color='b', ax =ax, label='HighSchool');\n",
    "g2.plot(drawstyle=\"steps-post\", x=\"YearsCodePro\", y=\"CompTotal\", ax=ax, color='r', label='PostHighSchool');\n",
    "#g2.plot(kind=\"scatter\", x=\"YearsCode\", y=\"CompTotal\", ax=ax, color='r', label='PostHighSchool');\n",
    "plt.legend(fontsize=15)\n",
    "\n",
    "ax.set_ylabel('Average Salary', size=15, labelpad=20)\n",
    "ax.set_xlabel('Years of Coding', size=15, labelpad=20)\n",
    "ax.tick_params(axis='x', labelsize=12)\n",
    "ax.tick_params(axis='y', labelsize=12)\n",
    "ax.set_title('Salary Performance with Years of Coding', fontsize=14);\n"
   ]
  },
  {
   "cell_type": "markdown",
   "metadata": {},
   "source": [
    "**From the plot above, people with advanced degrees are clearly earning more than those with only High School degree with the same years of Coding Experience. However, as the years of experience increase, the difference becomes smaller.**"
   ]
  },
  {
   "cell_type": "markdown",
   "metadata": {},
   "source": [
    "### 3. How do they feel about becoming managers (growth opportunity)?"
   ]
  },
  {
   "cell_type": "code",
   "execution_count": 23,
   "metadata": {},
   "outputs": [],
   "source": [
    "df = df_main[['EdLevel', 'MgrWant' ]]"
   ]
  },
  {
   "cell_type": "code",
   "execution_count": 24,
   "metadata": {},
   "outputs": [
    {
     "data": {
      "image/png": "[encoded data removed]",
      "text/plain": [
       "<Figure size 1440x432 with 2 Axes>"
      ]
     },
     "metadata": {
      "needs_background": "light"
     },
     "output_type": "display_data"
    }
   ],
   "source": [
    "HighSchool = df[df.EdLevel.isin(['Some college/university study without earning a degree', 'Secondary school (e.g. American high school, German Realschule or Gymnasium, etc.)'])]\n",
    "PostHighchool = df[df[\"EdLevel\"].isin(['Bachelor’s degree (BA, BS, B.Eng., etc.)',\n",
    "       'Master’s degree (MA, MS, M.Eng., MBA, etc.)', 'Other doctoral degree (Ph.D, Ed.D., etc.)',\n",
    "        'Professional degree (JD, MD, etc.)'])]\n",
    "fig, axes = plt.subplots(1, 2, figsize=(20, 6))\n",
    "HighSchool['MgrWant'].value_counts(normalize=True).plot(kind=\"bar\", ax=axes[0], rot=45, label=\"High School\");\n",
    "HighSchool['MgrWant'].value_counts(normalize=True).plot(kind=\"bar\", ax=axes[1], rot=45, label=\"Post High School\");\n",
    "\n",
    "axes[0].set_ylabel('Percentage', size=15, labelpad=20)\n",
    "axes[0].tick_params(axis='x', labelsize=12)\n",
    "axes[0].tick_params(axis='y', labelsize=12)\n",
    "axes[1].tick_params(axis='x', labelsize=12)\n",
    "axes[1].tick_params(axis='y', labelsize=12)\n",
    "\n",
    "axes[0].set_title('High School/Some College', fontsize=14)\n",
    "axes[1].set_title('Post High School Degree', fontsize=14);"
   ]
  },
  {
   "cell_type": "markdown",
   "metadata": {},
   "source": [
    "**We observe a similar distribution among those with high school degrees and those with advanced degrees. Might be worth doing, looking at what what factors are common among those who desire to become Managers.**"
   ]
  },
  {
   "cell_type": "markdown",
   "metadata": {},
   "source": [
    "## 5) Modelling\n",
    "\n",
    "We will try to predict a person's salary based on their level of education, Developer type, and years of professional coding."
   ]
  },
  {
   "cell_type": "code",
   "execution_count": 25,
   "metadata": {},
   "outputs": [
    {
     "data": {
      "text/plain": [
       "array(['Employed full-time',\n",
       "       'Independent contractor, freelancer, or self-employed',\n",
       "       'Not employed, but looking for work', 'Employed part-time',\n",
       "       'Not employed, and not looking for work', 'Retired', nan],\n",
       "      dtype=object)"
      ]
     },
     "execution_count": 25,
     "metadata": {},
     "output_type": "execute_result"
    }
   ],
   "source": [
    "# Get all employment statuses\n",
    "df_main.Employment.unique()"
   ]
  },
  {
   "cell_type": "code",
   "execution_count": 26,
   "metadata": {},
   "outputs": [
    {
     "data": {
      "text/plain": [
       "(16206, 16)"
      ]
     },
     "execution_count": 26,
     "metadata": {},
     "output_type": "execute_result"
    }
   ],
   "source": [
    "# Limit modelling to only those that are full-time employed\n",
    "df = df_main[df_main['Employment']=='Employed full-time']\n",
    "df.shape"
   ]
  },
  {
   "cell_type": "code",
   "execution_count": 27,
   "metadata": {},
   "outputs": [
    {
     "name": "stderr",
     "output_type": "stream",
     "text": [
      "c:\\program files\\python37\\lib\\site-packages\\ipykernel_launcher.py:17: SettingWithCopyWarning: \n",
      "A value is trying to be set on a copy of a slice from a DataFrame.\n",
      "Try using .loc[row_indexer,col_indexer] = value instead\n",
      "\n",
      "See the caveats in the documentation: http://pandas.pydata.org/pandas-docs/stable/indexing.html#indexing-view-versus-copy\n"
     ]
    },
    {
     "data": {
      "text/plain": [
       "Ed Status\n",
       "High School         13283\n",
       "Post High School     2057\n",
       "Name: Respondent, dtype: int64"
      ]
     },
     "execution_count": 27,
     "metadata": {},
     "output_type": "execute_result"
    }
   ],
   "source": [
    "def EduStatus(val):\n",
    "    '''\n",
    "    function classifies an educational level into post high school, high school or nan if pre-high school \n",
    "    input:\n",
    "        val - string value of the educational level\n",
    "    '''\n",
    "    if val in (['Some college/university study without earning a degree', 'Secondary school (e.g. American high school, German Realschule or Gymnasium, etc.)']):\n",
    "        return \"Post High School\"\n",
    "    else:\n",
    "        if val in (['Bachelor’s degree (BA, BS, B.Eng., etc.)',\n",
    "       'Master’s degree (MA, MS, M.Eng., MBA, etc.)', 'Other doctoral degree (Ph.D, Ed.D., etc.)',\n",
    "        'Professional degree (JD, MD, etc.)']):\n",
    "            return \"High School\"\n",
    "        else:\n",
    "            return np.nan\n",
    "        \n",
    "df['Ed Status'] = df.EdLevel.apply(EduStatus)\n",
    "df.groupby('Ed Status').count()['Respondent']"
   ]
  },
  {
   "cell_type": "code",
   "execution_count": 28,
   "metadata": {},
   "outputs": [],
   "source": [
    "# Drop non relevant fields\n",
    "df = df[['Ed Status', 'YearsCodePro', 'CompTotal',]]\n",
    "df.dropna(inplace=True)      \n",
    "df = pd.get_dummies(df, columns=['Ed Status']) # Perform one hot encoding for the categorical attribute 'ED Status'"
   ]
  },
  {
   "cell_type": "code",
   "execution_count": 29,
   "metadata": {},
   "outputs": [
    {
     "name": "stdout",
     "output_type": "stream",
     "text": [
      "-0.0002527805924861237\n",
      "2.527167045696368e+28\n"
     ]
    },
    {
     "data": {
      "text/html": [
       "<div>\n",
       "<style scoped>\n",
       "    .dataframe tbody tr th:only-of-type {\n",
       "        vertical-align: middle;\n",
       "    }\n",
       "\n",
       "    .dataframe tbody tr th {\n",
       "        vertical-align: top;\n",
       "    }\n",
       "\n",
       "    .dataframe thead th {\n",
       "        text-align: right;\n",
       "    }\n",
       "</style>\n",
       "<table border=\"1\" class=\"dataframe\">\n",
       "  <thead>\n",
       "    <tr style=\"text-align: right;\">\n",
       "      <th></th>\n",
       "      <th>Features</th>\n",
       "      <th>Coefs</th>\n",
       "    </tr>\n",
       "  </thead>\n",
       "  <tbody>\n",
       "    <tr>\n",
       "      <th>0</th>\n",
       "      <td>YearsCodePro</td>\n",
       "      <td>0.863681</td>\n",
       "    </tr>\n",
       "    <tr>\n",
       "      <th>2</th>\n",
       "      <td>Ed Status_Post High School</td>\n",
       "      <td>0.070579</td>\n",
       "    </tr>\n",
       "    <tr>\n",
       "      <th>1</th>\n",
       "      <td>Ed Status_High School</td>\n",
       "      <td>0.065740</td>\n",
       "    </tr>\n",
       "  </tbody>\n",
       "</table>\n",
       "</div>"
      ],
      "text/plain": [
       "                     Features     Coefs\n",
       "0                YearsCodePro  0.863681\n",
       "2  Ed Status_Post High School  0.070579\n",
       "1       Ed Status_High School  0.065740"
      ]
     },
     "execution_count": 29,
     "metadata": {},
     "output_type": "execute_result"
    }
   ],
   "source": [
    "# Create x and y values\n",
    "y = df['CompTotal']\n",
    "X = df.drop(['CompTotal'], axis=1)\n",
    "X_train, X_test, y_train, y_test = train_test_split(X, y, test_size=0.3, random_state=42)\n",
    "\n",
    "# Using random forest classifier\n",
    "Classifier = RandomForestRegressor(n_estimators=500)\n",
    "Classifier.fit(X_train, y_train)\n",
    "y_test_preds = Classifier.predict(X_test)\n",
    "print(r2_score(y_test, y_test_preds))\n",
    "print(mean_squared_error(y_test, y_test_preds))\n",
    "\n",
    "coefs_df = pd.DataFrame()\n",
    "\n",
    "coefs_df['Features'] = X_train.columns\n",
    "coefs_df['Coefs'] = Classifier.feature_importances_\n",
    "coefs_df.sort_values('Coefs', ascending=False).head(20)"
   ]
  },
  {
   "cell_type": "markdown",
   "metadata": {},
   "source": [
    "## 6. Evaluation\n",
    "\n",
    "1. From the result in the modelling step above, using only `Education Level` and `Years of Professional Coding Experience` to predict compensation, `Years of Professional Coding Experience` plays the most crucial role in determining compensation. Having a post high school degree has a comparatively similar effect as not having one when determining compensation as seen in the low values above. This follows along with our analysis to Q2 about how compensation varies between the two population. <br>\n",
    "2. However, as seen from the population distribution of those who were `Employed full-time`,13,283 of them ha post high school education while only 2057 had highest education as high school or some college, it is possible that it is more challenging to get a job when you only have high school diploma and some college; but if you do get one, you can expect to receive a competitive salary."
   ]
  },
  {
   "cell_type": "code",
   "execution_count": null,
   "metadata": {},
   "outputs": [],
   "source": []
  }
 ],
 "metadata": {
  "kernelspec": {
   "display_name": "Python 3",
   "language": "python",
   "name": "python3"
  },
  "language_info": {
   "codemirror_mode": {
    "name": "ipython",
    "version": 3
   },
   "file_extension": ".py",
   "mimetype": "text/x-python",
   "name": "python",
   "nbconvert_exporter": "python",
   "pygments_lexer": "ipython3",
   "version": "3.7.3"
  }
 },
 "nbformat": 4,
 "nbformat_minor": 2
}
